{
 "cells": [
  {
   "cell_type": "code",
   "execution_count": 1,
   "id": "7fcf332b-c0a7-46f2-8dc6-6bf4bc1b41a0",
   "metadata": {},
   "outputs": [
    {
     "name": "stdout",
     "output_type": "stream",
     "text": [
      "Welcome to the Password Generator\n"
     ]
    },
    {
     "name": "stdin",
     "output_type": "stream",
     "text": [
      "Enter the desired password length:  6\n",
      "Include letters (y/n):  y\n",
      "Include digits (y/n):  y\n",
      "Include symbols (y/n):  y\n"
     ]
    },
    {
     "name": "stdout",
     "output_type": "stream",
     "text": [
      "\n",
      "Generated password: 537u~o\n"
     ]
    }
   ],
   "source": [
    "###### import random\n",
    "import string\n",
    "def generate_password(length, use_letters=True, use_digits=True, use_symbols=True):\n",
    "    # Initialize an empty list to store characters\n",
    "    char_pool = []\n",
    "    if use_letters:\n",
    "        char_pool.extend(string.ascii_letters)\n",
    "    if use_digits:\n",
    "        char_pool.extend(string.digits)  # Digits (0-9)\n",
    "    if use_symbols:\n",
    "        char_pool.extend(string.punctuation)  \n",
    "    if not char_pool:\n",
    "        raise ValueError(\"At least one character type must be selected!\")\n",
    "    password = ''.join(random.choice(char_pool) for _ in range(length))\n",
    "    return password\n",
    "def main():\n",
    "    print(\"Welcome to the Password Generator\")\n",
    "    try:\n",
    "        length = int(input(\"Enter the desired password length: \"))\n",
    "        if length < 4:\n",
    "            print(\"Password length should be at least 4 characters for better security.\")\n",
    "            return\n",
    "    except ValueError:\n",
    "        print(\"Invalid input! Please enter a valid number for password length.\")\n",
    "        return\n",
    "    use_letters = input(\"Include letters (y/n): \").strip().lower() == 'y'\n",
    "    use_digits = input(\"Include digits (y/n): \").strip().lower() == 'y'\n",
    "    use_symbols = input(\"Include symbols (y/n): \").strip().lower() == 'y'\n",
    "    password = generate_password(length, use_letters, use_digits, use_symbols)\n",
    "    print(f\"\\nGenerated password: {password}\")\n",
    "if __name__ == \"__main__\":\n",
    "    main()"
   ]
  },
  {
   "cell_type": "code",
   "execution_count": null,
   "id": "2b151f98-53d8-45cc-a177-8ce7b6033b9e",
   "metadata": {},
   "outputs": [],
   "source": []
  }
 ],
 "metadata": {
  "kernelspec": {
   "display_name": "Python 3 (ipykernel)",
   "language": "python",
   "name": "python3"
  },
  "language_info": {
   "codemirror_mode": {
    "name": "ipython",
    "version": 3
   },
   "file_extension": ".py",
   "mimetype": "text/x-python",
   "name": "python",
   "nbconvert_exporter": "python",
   "pygments_lexer": "ipython3",
   "version": "3.12.7"
  }
 },
 "nbformat": 4,
 "nbformat_minor": 5
}
